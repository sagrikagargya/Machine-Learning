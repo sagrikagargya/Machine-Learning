{
 "cells": [
  {
   "cell_type": "code",
   "execution_count": 4,
   "id": "ad6096d7",
   "metadata": {},
   "outputs": [],
   "source": [
    "import numpy as np"
   ]
  },
  {
   "cell_type": "code",
   "execution_count": 6,
   "id": "e7ddacb7",
   "metadata": {},
   "outputs": [],
   "source": [
    "data=np.loadtxt(\"tvs.csv\",delimiter=\",\",skiprows=1)"
   ]
  },
  {
   "cell_type": "code",
   "execution_count": 31,
   "id": "9f3f5135",
   "metadata": {},
   "outputs": [],
   "source": [
    "x=data[:,0].reshape(-1,1)\n",
    "y=data[:,1]\n"
   ]
  },
  {
   "cell_type": "code",
   "execution_count": 8,
   "id": "a99eb3a7",
   "metadata": {},
   "outputs": [
    {
     "data": {
      "text/plain": [
       "(200,)"
      ]
     },
     "execution_count": 8,
     "metadata": {},
     "output_type": "execute_result"
    }
   ],
   "source": [
    "x.shape"
   ]
  },
  {
   "cell_type": "code",
   "execution_count": 22,
   "id": "80b25c32",
   "metadata": {},
   "outputs": [
    {
     "data": {
      "text/plain": [
       "(140,)"
      ]
     },
     "execution_count": 22,
     "metadata": {},
     "output_type": "execute_result"
    }
   ],
   "source": [
    "from sklearn import model_selection\n",
    "X_train,X_test,Y_train,Y_test=model_selection.train_test_split(x,y,test_size=0.3)\n",
    "X_train.shape"
   ]
  },
  {
   "cell_type": "code",
   "execution_count": 27,
   "id": "af39822a",
   "metadata": {},
   "outputs": [],
   "source": [
    "def fit(x_train,y_train):\n",
    "    num=(x_train*y_train).mean() - x_train.mean()*y_train.mean()\n",
    "    den=(x_train**2).mean() - x_train.mean()**2\n",
    "    m=num/den\n",
    "    c=y_train.mean()-m*x_train.mean()\n",
    "    return m,c\n",
    "    "
   ]
  },
  {
   "cell_type": "code",
   "execution_count": 28,
   "id": "3898bb73",
   "metadata": {},
   "outputs": [],
   "source": [
    "def predict(x_test,m,c):\n",
    "    return m*x+c\n",
    "\n",
    "def score(y_truth,y_pred):\n",
    "    u=((y_truth-y_pred)**2).sum()\n",
    "    v=((y_truth-y_truth.mean())**2).sum()\n",
    "    return 1-u/v\n",
    "\n",
    "def cost (x,y,m,c):\n",
    "    return ((y-m*x-c)**2).sum()"
   ]
  },
  {
   "cell_type": "code",
   "execution_count": 32,
   "id": "057aa44d",
   "metadata": {},
   "outputs": [
    {
     "name": "stdout",
     "output_type": "stream",
     "text": [
      "M,C 0.04767043159281584 7.137146081718852\n",
      "test score -327.0475255830065\n",
      "train score -320.6245813361928\n",
      "cost on training data 1385.8290026749978\n"
     ]
    }
   ],
   "source": [
    "m,c=fit(X_train,Y_train)\n",
    "print(\"M,C\",m,c)\n",
    "\n",
    "y_test_pred=predict(X_test,m,c)\n",
    "print(\"test score\", score(Y_test,y_test_pred))\n",
    "\n",
    "y_train_pred=predict(X_train,m,c)\n",
    "print(\"train score\", score(Y_train,y_train_pred))\n",
    "\n",
    "print(\"cost on training data\",cost(X_train,Y_train,m,c))\n",
    "\n"
   ]
  }
 ],
 "metadata": {
  "kernelspec": {
   "display_name": "Python 3 (ipykernel)",
   "language": "python",
   "name": "python3"
  },
  "language_info": {
   "codemirror_mode": {
    "name": "ipython",
    "version": 3
   },
   "file_extension": ".py",
   "mimetype": "text/x-python",
   "name": "python",
   "nbconvert_exporter": "python",
   "pygments_lexer": "ipython3",
   "version": "3.11.4"
  }
 },
 "nbformat": 4,
 "nbformat_minor": 5
}
